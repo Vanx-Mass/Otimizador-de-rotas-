{
  "nbformat": 4,
  "nbformat_minor": 0,
  "metadata": {
    "colab": {
      "provenance": [],
      "authorship_tag": "ABX9TyN3XNzKVPddj+RtDCsXQLHO",
      "include_colab_link": true
    },
    "kernelspec": {
      "name": "python3",
      "display_name": "Python 3"
    },
    "language_info": {
      "name": "python"
    }
  },
  "cells": [
    {
      "cell_type": "markdown",
      "metadata": {
        "id": "view-in-github",
        "colab_type": "text"
      },
      "source": [
        "<a href=\"https://colab.research.google.com/github/Vanx-Mass/Otimizador-de-rotas-/blob/main/otimizador_de_rotas.ipynb\" target=\"_parent\"><img src=\"https://colab.research.google.com/assets/colab-badge.svg\" alt=\"Open In Colab\"/></a>"
      ]
    },
    {
      "cell_type": "code",
      "execution_count": 21,
      "metadata": {
        "id": "sEsHUWIK725e"
      },
      "outputs": [],
      "source": [
        "# dados.py simulado no Colab\n",
        "CIDADES = {\n",
        "    \"São Paulo\": {\"Rio de Janeiro\": 430, \"Belo Horizonte\": 586},\n",
        "    \"Rio de Janeiro\": {\"São Paulo\": 430, \"Belo Horizonte\": 434},\n",
        "    \"Belo Horizonte\": {\"São Paulo\": 586, \"Rio de Janeiro\": 434, \"Brasília\": 716},\n",
        "    \"Brasília\": {\"Belo Horizonte\": 716},\n",
        "    \"Curitiba\": {\"São Paulo\": 408},\n",
        "    \"Porto Alegre\": {\"Curitiba\": 711}\n",
        "}\n"
      ]
    },
    {
      "cell_type": "code",
      "source": [
        "# algoritmos.py simulado no Colab\n",
        "from collections import deque\n",
        "import heapq\n",
        "\n",
        "def bfs(grafo, origem, destino):\n",
        "    fila = deque()\n",
        "    fila.append((origem, [origem]))\n",
        "    visitados = set()\n",
        "\n",
        "    while fila:\n",
        "        cidade, caminho = fila.popleft()\n",
        "        if cidade == destino:\n",
        "            return caminho\n",
        "        for vizinho in grafo.get(cidade, {}):\n",
        "            if vizinho not in visitados:\n",
        "                visitados.add(vizinho)\n",
        "                fila.append((vizinho, caminho + [vizinho]))\n",
        "    return None\n",
        "\n",
        "def dijkstra(grafo, origem, destino):\n",
        "    fila = []\n",
        "    heapq.heappush(fila, (0, origem, [origem]))\n",
        "    visitados = set()\n",
        "    while fila:\n",
        "        dist, cidade, caminho = heapq.heappop(fila)\n",
        "        if cidade == destino:\n",
        "            return caminho, dist\n",
        "        if cidade in visitados:\n",
        "            continue\n",
        "        visitados.add(cidade)\n",
        "        for vizinho, distancia in grafo.get(cidade, {}).items():\n",
        "            if vizinho not in visitados:\n",
        "                heapq.heappush(fila, (dist + distancia, vizinho, caminho + [vizinho]))\n",
        "    return None, float('inf')\n"
      ],
      "metadata": {
        "id": "0BK7eQPh780M"
      },
      "execution_count": 22,
      "outputs": []
    },
    {
      "cell_type": "code",
      "source": [
        "# main.py simulado no Colab\n",
        "from IPython.display import clear_output\n",
        "\n",
        "def menu():\n",
        "    print(\"\\n=== Otimizador de Rotas ===\")\n",
        "    print(\"1. Menor número de conexões (BFS)\")\n",
        "    print(\"2. Menor distância total (Dijkstra)\")\n",
        "    print(\"3. Sair\")\n",
        "    return input(\"Escolha uma opção: \")\n",
        "\n",
        "def main():\n",
        "    while True:\n",
        "        opcao = menu()\n",
        "        if opcao == \"3\":\n",
        "            break\n",
        "        origem = input(\"Cidade origem: \").strip()\n",
        "        destino = input(\"Cidade destino: \").strip()\n",
        "\n",
        "        if origem not in CIDADES or destino not in CIDADES:\n",
        "            print(\"Cidade não encontrada!\")\n",
        "            continue\n",
        "\n",
        "        if opcao == \"1\":\n",
        "            caminho = bfs(CIDADES, origem, destino)\n",
        "            if caminho:\n",
        "                print(f\"Rota (BFS): {' -> '.join(caminho)}\")\n",
        "            else:\n",
        "                print(\"Sem rota disponível!\")\n",
        "\n",
        "        elif opcao == \"2\":\n",
        "            caminho, distancia = dijkstra(CIDADES, origem, destino)\n",
        "            if caminho:\n",
        "                print(f\"Rota (Dijkstra): {' -> '.join(caminho)}\")\n",
        "                print(f\"Distância total: {distancia} km\")\n",
        "            else:\n",
        "                print(\"Sem rota disponível!\")\n",
        "\n",
        "main()\n"
      ],
      "metadata": {
        "id": "bAiv7bGd7-P5",
        "colab": {
          "base_uri": "https://localhost:8080/"
        },
        "outputId": "22d4a065-dd54-4df8-b8ef-7e4fc3e4cdb1"
      },
      "execution_count": null,
      "outputs": [
        {
          "output_type": "stream",
          "name": "stdout",
          "text": [
            "\n",
            "=== Otimizador de Rotas ===\n",
            "1. Menor número de conexões (BFS)\n",
            "2. Menor distância total (Dijkstra)\n",
            "3. Sair\n"
          ]
        }
      ]
    },
    {
      "cell_type": "code",
      "source": [],
      "metadata": {
        "id": "yn2hmV9B7_in"
      },
      "execution_count": null,
      "outputs": []
    }
  ]
}